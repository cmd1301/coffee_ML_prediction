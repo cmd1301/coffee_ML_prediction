{
  "nbformat": 4,
  "nbformat_minor": 0,
  "metadata": {
    "colab": {
      "provenance": [],
      "authorship_tag": "ABX9TyNRHmvGYwe+M7sazaIAq8xs",
      "include_colab_link": true
    },
    "kernelspec": {
      "name": "python3",
      "display_name": "Python 3"
    },
    "language_info": {
      "name": "python"
    }
  },
  "cells": [
    {
      "cell_type": "markdown",
      "metadata": {
        "id": "view-in-github",
        "colab_type": "text"
      },
      "source": [
        "<a href=\"https://colab.research.google.com/github/cmd1301/coffee_ML_prediction/blob/main/coffee_proj.ipynb\" target=\"_parent\"><img src=\"https://colab.research.google.com/assets/colab-badge.svg\" alt=\"Open In Colab\"/></a>"
      ]
    },
    {
      "cell_type": "code",
      "execution_count": 134,
      "metadata": {
        "id": "0Qc4r9VpwGeA"
      },
      "outputs": [],
      "source": [
        "import pandas as pd\n",
        "import numpy as np\n",
        "import matplotlib.pyplot as plt\n",
        "import seaborn as sns\n",
        "import re\n",
        "from sklearn.model_selection import train_test_split\n",
        "from sklearn.impute import SimpleImputer"
      ]
    },
    {
      "cell_type": "code",
      "source": [
        "url = \"https://raw.githubusercontent.com/cmd1301/coffee_ML_prediction/main/datasets/arabica_data_cleaned.csv\""
      ],
      "metadata": {
        "id": "JVTSpVXG0XQ7"
      },
      "execution_count": 2,
      "outputs": []
    },
    {
      "cell_type": "code",
      "source": [
        "df = pd.read_csv(url)\n",
        "df.head()"
      ],
      "metadata": {
        "colab": {
          "base_uri": "https://localhost:8080/",
          "height": 594
        },
        "id": "DfjoaPp30tH6",
        "outputId": "d1b9d83f-6c6f-4871-ab75-f787d20e7a41"
      },
      "execution_count": 79,
      "outputs": [
        {
          "output_type": "execute_result",
          "data": {
            "text/plain": [
              "   Unnamed: 0  Species                     Owner Country.of.Origin  \\\n",
              "0           1  Arabica                 metad plc          Ethiopia   \n",
              "1           2  Arabica                 metad plc          Ethiopia   \n",
              "2           3  Arabica  grounds for health admin         Guatemala   \n",
              "3           4  Arabica       yidnekachew dabessa          Ethiopia   \n",
              "4           5  Arabica                 metad plc          Ethiopia   \n",
              "\n",
              "                                  Farm.Name Lot.Number       Mill ICO.Number  \\\n",
              "0                                 metad plc        NaN  metad plc  2014/2015   \n",
              "1                                 metad plc        NaN  metad plc  2014/2015   \n",
              "2  san marcos barrancas \"san cristobal cuch        NaN        NaN        NaN   \n",
              "3     yidnekachew dabessa coffee plantation        NaN    wolensu        NaN   \n",
              "4                                 metad plc        NaN  metad plc  2014/2015   \n",
              "\n",
              "                                 Company       Altitude  ...  Color  \\\n",
              "0      metad agricultural developmet plc      1950-2200  ...  Green   \n",
              "1      metad agricultural developmet plc      1950-2200  ...  Green   \n",
              "2                                    NaN  1600 - 1800 m  ...    NaN   \n",
              "3  yidnekachew debessa coffee plantation      1800-2200  ...  Green   \n",
              "4      metad agricultural developmet plc      1950-2200  ...  Green   \n",
              "\n",
              "  Category.Two.Defects        Expiration                  Certification.Body  \\\n",
              "0                    0   April 3rd, 2016  METAD Agricultural Development plc   \n",
              "1                    1   April 3rd, 2016  METAD Agricultural Development plc   \n",
              "2                    0    May 31st, 2011        Specialty Coffee Association   \n",
              "3                    2  March 25th, 2016  METAD Agricultural Development plc   \n",
              "4                    2   April 3rd, 2016  METAD Agricultural Development plc   \n",
              "\n",
              "                      Certification.Address  \\\n",
              "0  309fcf77415a3661ae83e027f7e5f05dad786e44   \n",
              "1  309fcf77415a3661ae83e027f7e5f05dad786e44   \n",
              "2  36d0d00a3724338ba7937c52a378d085f2172daa   \n",
              "3  309fcf77415a3661ae83e027f7e5f05dad786e44   \n",
              "4  309fcf77415a3661ae83e027f7e5f05dad786e44   \n",
              "\n",
              "                      Certification.Contact unit_of_measurement  \\\n",
              "0  19fef5a731de2db57d16da10287413f5f99bc2dd                   m   \n",
              "1  19fef5a731de2db57d16da10287413f5f99bc2dd                   m   \n",
              "2  0878a7d4b9d35ddbf0fe2ce69a2062cceb45a660                   m   \n",
              "3  19fef5a731de2db57d16da10287413f5f99bc2dd                   m   \n",
              "4  19fef5a731de2db57d16da10287413f5f99bc2dd                   m   \n",
              "\n",
              "  altitude_low_meters altitude_high_meters altitude_mean_meters  \n",
              "0              1950.0               2200.0               2075.0  \n",
              "1              1950.0               2200.0               2075.0  \n",
              "2              1600.0               1800.0               1700.0  \n",
              "3              1800.0               2200.0               2000.0  \n",
              "4              1950.0               2200.0               2075.0  \n",
              "\n",
              "[5 rows x 44 columns]"
            ],
            "text/html": [
              "\n",
              "  <div id=\"df-c1136365-bbb4-4a81-ae8a-38f531d1b8fd\">\n",
              "    <div class=\"colab-df-container\">\n",
              "      <div>\n",
              "<style scoped>\n",
              "    .dataframe tbody tr th:only-of-type {\n",
              "        vertical-align: middle;\n",
              "    }\n",
              "\n",
              "    .dataframe tbody tr th {\n",
              "        vertical-align: top;\n",
              "    }\n",
              "\n",
              "    .dataframe thead th {\n",
              "        text-align: right;\n",
              "    }\n",
              "</style>\n",
              "<table border=\"1\" class=\"dataframe\">\n",
              "  <thead>\n",
              "    <tr style=\"text-align: right;\">\n",
              "      <th></th>\n",
              "      <th>Unnamed: 0</th>\n",
              "      <th>Species</th>\n",
              "      <th>Owner</th>\n",
              "      <th>Country.of.Origin</th>\n",
              "      <th>Farm.Name</th>\n",
              "      <th>Lot.Number</th>\n",
              "      <th>Mill</th>\n",
              "      <th>ICO.Number</th>\n",
              "      <th>Company</th>\n",
              "      <th>Altitude</th>\n",
              "      <th>...</th>\n",
              "      <th>Color</th>\n",
              "      <th>Category.Two.Defects</th>\n",
              "      <th>Expiration</th>\n",
              "      <th>Certification.Body</th>\n",
              "      <th>Certification.Address</th>\n",
              "      <th>Certification.Contact</th>\n",
              "      <th>unit_of_measurement</th>\n",
              "      <th>altitude_low_meters</th>\n",
              "      <th>altitude_high_meters</th>\n",
              "      <th>altitude_mean_meters</th>\n",
              "    </tr>\n",
              "  </thead>\n",
              "  <tbody>\n",
              "    <tr>\n",
              "      <th>0</th>\n",
              "      <td>1</td>\n",
              "      <td>Arabica</td>\n",
              "      <td>metad plc</td>\n",
              "      <td>Ethiopia</td>\n",
              "      <td>metad plc</td>\n",
              "      <td>NaN</td>\n",
              "      <td>metad plc</td>\n",
              "      <td>2014/2015</td>\n",
              "      <td>metad agricultural developmet plc</td>\n",
              "      <td>1950-2200</td>\n",
              "      <td>...</td>\n",
              "      <td>Green</td>\n",
              "      <td>0</td>\n",
              "      <td>April 3rd, 2016</td>\n",
              "      <td>METAD Agricultural Development plc</td>\n",
              "      <td>309fcf77415a3661ae83e027f7e5f05dad786e44</td>\n",
              "      <td>19fef5a731de2db57d16da10287413f5f99bc2dd</td>\n",
              "      <td>m</td>\n",
              "      <td>1950.0</td>\n",
              "      <td>2200.0</td>\n",
              "      <td>2075.0</td>\n",
              "    </tr>\n",
              "    <tr>\n",
              "      <th>1</th>\n",
              "      <td>2</td>\n",
              "      <td>Arabica</td>\n",
              "      <td>metad plc</td>\n",
              "      <td>Ethiopia</td>\n",
              "      <td>metad plc</td>\n",
              "      <td>NaN</td>\n",
              "      <td>metad plc</td>\n",
              "      <td>2014/2015</td>\n",
              "      <td>metad agricultural developmet plc</td>\n",
              "      <td>1950-2200</td>\n",
              "      <td>...</td>\n",
              "      <td>Green</td>\n",
              "      <td>1</td>\n",
              "      <td>April 3rd, 2016</td>\n",
              "      <td>METAD Agricultural Development plc</td>\n",
              "      <td>309fcf77415a3661ae83e027f7e5f05dad786e44</td>\n",
              "      <td>19fef5a731de2db57d16da10287413f5f99bc2dd</td>\n",
              "      <td>m</td>\n",
              "      <td>1950.0</td>\n",
              "      <td>2200.0</td>\n",
              "      <td>2075.0</td>\n",
              "    </tr>\n",
              "    <tr>\n",
              "      <th>2</th>\n",
              "      <td>3</td>\n",
              "      <td>Arabica</td>\n",
              "      <td>grounds for health admin</td>\n",
              "      <td>Guatemala</td>\n",
              "      <td>san marcos barrancas \"san cristobal cuch</td>\n",
              "      <td>NaN</td>\n",
              "      <td>NaN</td>\n",
              "      <td>NaN</td>\n",
              "      <td>NaN</td>\n",
              "      <td>1600 - 1800 m</td>\n",
              "      <td>...</td>\n",
              "      <td>NaN</td>\n",
              "      <td>0</td>\n",
              "      <td>May 31st, 2011</td>\n",
              "      <td>Specialty Coffee Association</td>\n",
              "      <td>36d0d00a3724338ba7937c52a378d085f2172daa</td>\n",
              "      <td>0878a7d4b9d35ddbf0fe2ce69a2062cceb45a660</td>\n",
              "      <td>m</td>\n",
              "      <td>1600.0</td>\n",
              "      <td>1800.0</td>\n",
              "      <td>1700.0</td>\n",
              "    </tr>\n",
              "    <tr>\n",
              "      <th>3</th>\n",
              "      <td>4</td>\n",
              "      <td>Arabica</td>\n",
              "      <td>yidnekachew dabessa</td>\n",
              "      <td>Ethiopia</td>\n",
              "      <td>yidnekachew dabessa coffee plantation</td>\n",
              "      <td>NaN</td>\n",
              "      <td>wolensu</td>\n",
              "      <td>NaN</td>\n",
              "      <td>yidnekachew debessa coffee plantation</td>\n",
              "      <td>1800-2200</td>\n",
              "      <td>...</td>\n",
              "      <td>Green</td>\n",
              "      <td>2</td>\n",
              "      <td>March 25th, 2016</td>\n",
              "      <td>METAD Agricultural Development plc</td>\n",
              "      <td>309fcf77415a3661ae83e027f7e5f05dad786e44</td>\n",
              "      <td>19fef5a731de2db57d16da10287413f5f99bc2dd</td>\n",
              "      <td>m</td>\n",
              "      <td>1800.0</td>\n",
              "      <td>2200.0</td>\n",
              "      <td>2000.0</td>\n",
              "    </tr>\n",
              "    <tr>\n",
              "      <th>4</th>\n",
              "      <td>5</td>\n",
              "      <td>Arabica</td>\n",
              "      <td>metad plc</td>\n",
              "      <td>Ethiopia</td>\n",
              "      <td>metad plc</td>\n",
              "      <td>NaN</td>\n",
              "      <td>metad plc</td>\n",
              "      <td>2014/2015</td>\n",
              "      <td>metad agricultural developmet plc</td>\n",
              "      <td>1950-2200</td>\n",
              "      <td>...</td>\n",
              "      <td>Green</td>\n",
              "      <td>2</td>\n",
              "      <td>April 3rd, 2016</td>\n",
              "      <td>METAD Agricultural Development plc</td>\n",
              "      <td>309fcf77415a3661ae83e027f7e5f05dad786e44</td>\n",
              "      <td>19fef5a731de2db57d16da10287413f5f99bc2dd</td>\n",
              "      <td>m</td>\n",
              "      <td>1950.0</td>\n",
              "      <td>2200.0</td>\n",
              "      <td>2075.0</td>\n",
              "    </tr>\n",
              "  </tbody>\n",
              "</table>\n",
              "<p>5 rows × 44 columns</p>\n",
              "</div>\n",
              "      <button class=\"colab-df-convert\" onclick=\"convertToInteractive('df-c1136365-bbb4-4a81-ae8a-38f531d1b8fd')\"\n",
              "              title=\"Convert this dataframe to an interactive table.\"\n",
              "              style=\"display:none;\">\n",
              "        \n",
              "  <svg xmlns=\"http://www.w3.org/2000/svg\" height=\"24px\"viewBox=\"0 0 24 24\"\n",
              "       width=\"24px\">\n",
              "    <path d=\"M0 0h24v24H0V0z\" fill=\"none\"/>\n",
              "    <path d=\"M18.56 5.44l.94 2.06.94-2.06 2.06-.94-2.06-.94-.94-2.06-.94 2.06-2.06.94zm-11 1L8.5 8.5l.94-2.06 2.06-.94-2.06-.94L8.5 2.5l-.94 2.06-2.06.94zm10 10l.94 2.06.94-2.06 2.06-.94-2.06-.94-.94-2.06-.94 2.06-2.06.94z\"/><path d=\"M17.41 7.96l-1.37-1.37c-.4-.4-.92-.59-1.43-.59-.52 0-1.04.2-1.43.59L10.3 9.45l-7.72 7.72c-.78.78-.78 2.05 0 2.83L4 21.41c.39.39.9.59 1.41.59.51 0 1.02-.2 1.41-.59l7.78-7.78 2.81-2.81c.8-.78.8-2.07 0-2.86zM5.41 20L4 18.59l7.72-7.72 1.47 1.35L5.41 20z\"/>\n",
              "  </svg>\n",
              "      </button>\n",
              "      \n",
              "  <style>\n",
              "    .colab-df-container {\n",
              "      display:flex;\n",
              "      flex-wrap:wrap;\n",
              "      gap: 12px;\n",
              "    }\n",
              "\n",
              "    .colab-df-convert {\n",
              "      background-color: #E8F0FE;\n",
              "      border: none;\n",
              "      border-radius: 50%;\n",
              "      cursor: pointer;\n",
              "      display: none;\n",
              "      fill: #1967D2;\n",
              "      height: 32px;\n",
              "      padding: 0 0 0 0;\n",
              "      width: 32px;\n",
              "    }\n",
              "\n",
              "    .colab-df-convert:hover {\n",
              "      background-color: #E2EBFA;\n",
              "      box-shadow: 0px 1px 2px rgba(60, 64, 67, 0.3), 0px 1px 3px 1px rgba(60, 64, 67, 0.15);\n",
              "      fill: #174EA6;\n",
              "    }\n",
              "\n",
              "    [theme=dark] .colab-df-convert {\n",
              "      background-color: #3B4455;\n",
              "      fill: #D2E3FC;\n",
              "    }\n",
              "\n",
              "    [theme=dark] .colab-df-convert:hover {\n",
              "      background-color: #434B5C;\n",
              "      box-shadow: 0px 1px 3px 1px rgba(0, 0, 0, 0.15);\n",
              "      filter: drop-shadow(0px 1px 2px rgba(0, 0, 0, 0.3));\n",
              "      fill: #FFFFFF;\n",
              "    }\n",
              "  </style>\n",
              "\n",
              "      <script>\n",
              "        const buttonEl =\n",
              "          document.querySelector('#df-c1136365-bbb4-4a81-ae8a-38f531d1b8fd button.colab-df-convert');\n",
              "        buttonEl.style.display =\n",
              "          google.colab.kernel.accessAllowed ? 'block' : 'none';\n",
              "\n",
              "        async function convertToInteractive(key) {\n",
              "          const element = document.querySelector('#df-c1136365-bbb4-4a81-ae8a-38f531d1b8fd');\n",
              "          const dataTable =\n",
              "            await google.colab.kernel.invokeFunction('convertToInteractive',\n",
              "                                                     [key], {});\n",
              "          if (!dataTable) return;\n",
              "\n",
              "          const docLinkHtml = 'Like what you see? Visit the ' +\n",
              "            '<a target=\"_blank\" href=https://colab.research.google.com/notebooks/data_table.ipynb>data table notebook</a>'\n",
              "            + ' to learn more about interactive tables.';\n",
              "          element.innerHTML = '';\n",
              "          dataTable['output_type'] = 'display_data';\n",
              "          await google.colab.output.renderOutput(dataTable, element);\n",
              "          const docLink = document.createElement('div');\n",
              "          docLink.innerHTML = docLinkHtml;\n",
              "          element.appendChild(docLink);\n",
              "        }\n",
              "      </script>\n",
              "    </div>\n",
              "  </div>\n",
              "  "
            ]
          },
          "metadata": {},
          "execution_count": 79
        }
      ]
    },
    {
      "cell_type": "code",
      "source": [
        "def replace_dot_with_underscore(column_name):\n",
        "    return column_name.replace('.', '_')\n",
        "\n",
        "df = df.rename(columns=replace_dot_with_underscore)\n",
        "df.head()\n"
      ],
      "metadata": {
        "colab": {
          "base_uri": "https://localhost:8080/",
          "height": 594
        },
        "id": "BIw7Dc6A01st",
        "outputId": "7a48f383-2f4f-47af-f9cf-06f8d7a8415d"
      },
      "execution_count": 80,
      "outputs": [
        {
          "output_type": "execute_result",
          "data": {
            "text/plain": [
              "   Unnamed: 0  Species                     Owner Country_of_Origin  \\\n",
              "0           1  Arabica                 metad plc          Ethiopia   \n",
              "1           2  Arabica                 metad plc          Ethiopia   \n",
              "2           3  Arabica  grounds for health admin         Guatemala   \n",
              "3           4  Arabica       yidnekachew dabessa          Ethiopia   \n",
              "4           5  Arabica                 metad plc          Ethiopia   \n",
              "\n",
              "                                  Farm_Name Lot_Number       Mill ICO_Number  \\\n",
              "0                                 metad plc        NaN  metad plc  2014/2015   \n",
              "1                                 metad plc        NaN  metad plc  2014/2015   \n",
              "2  san marcos barrancas \"san cristobal cuch        NaN        NaN        NaN   \n",
              "3     yidnekachew dabessa coffee plantation        NaN    wolensu        NaN   \n",
              "4                                 metad plc        NaN  metad plc  2014/2015   \n",
              "\n",
              "                                 Company       Altitude  ...  Color  \\\n",
              "0      metad agricultural developmet plc      1950-2200  ...  Green   \n",
              "1      metad agricultural developmet plc      1950-2200  ...  Green   \n",
              "2                                    NaN  1600 - 1800 m  ...    NaN   \n",
              "3  yidnekachew debessa coffee plantation      1800-2200  ...  Green   \n",
              "4      metad agricultural developmet plc      1950-2200  ...  Green   \n",
              "\n",
              "  Category_Two_Defects        Expiration                  Certification_Body  \\\n",
              "0                    0   April 3rd, 2016  METAD Agricultural Development plc   \n",
              "1                    1   April 3rd, 2016  METAD Agricultural Development plc   \n",
              "2                    0    May 31st, 2011        Specialty Coffee Association   \n",
              "3                    2  March 25th, 2016  METAD Agricultural Development plc   \n",
              "4                    2   April 3rd, 2016  METAD Agricultural Development plc   \n",
              "\n",
              "                      Certification_Address  \\\n",
              "0  309fcf77415a3661ae83e027f7e5f05dad786e44   \n",
              "1  309fcf77415a3661ae83e027f7e5f05dad786e44   \n",
              "2  36d0d00a3724338ba7937c52a378d085f2172daa   \n",
              "3  309fcf77415a3661ae83e027f7e5f05dad786e44   \n",
              "4  309fcf77415a3661ae83e027f7e5f05dad786e44   \n",
              "\n",
              "                      Certification_Contact unit_of_measurement  \\\n",
              "0  19fef5a731de2db57d16da10287413f5f99bc2dd                   m   \n",
              "1  19fef5a731de2db57d16da10287413f5f99bc2dd                   m   \n",
              "2  0878a7d4b9d35ddbf0fe2ce69a2062cceb45a660                   m   \n",
              "3  19fef5a731de2db57d16da10287413f5f99bc2dd                   m   \n",
              "4  19fef5a731de2db57d16da10287413f5f99bc2dd                   m   \n",
              "\n",
              "  altitude_low_meters altitude_high_meters altitude_mean_meters  \n",
              "0              1950.0               2200.0               2075.0  \n",
              "1              1950.0               2200.0               2075.0  \n",
              "2              1600.0               1800.0               1700.0  \n",
              "3              1800.0               2200.0               2000.0  \n",
              "4              1950.0               2200.0               2075.0  \n",
              "\n",
              "[5 rows x 44 columns]"
            ],
            "text/html": [
              "\n",
              "  <div id=\"df-eac5cc32-0da9-4988-90b8-c0c7f7e0ba16\">\n",
              "    <div class=\"colab-df-container\">\n",
              "      <div>\n",
              "<style scoped>\n",
              "    .dataframe tbody tr th:only-of-type {\n",
              "        vertical-align: middle;\n",
              "    }\n",
              "\n",
              "    .dataframe tbody tr th {\n",
              "        vertical-align: top;\n",
              "    }\n",
              "\n",
              "    .dataframe thead th {\n",
              "        text-align: right;\n",
              "    }\n",
              "</style>\n",
              "<table border=\"1\" class=\"dataframe\">\n",
              "  <thead>\n",
              "    <tr style=\"text-align: right;\">\n",
              "      <th></th>\n",
              "      <th>Unnamed: 0</th>\n",
              "      <th>Species</th>\n",
              "      <th>Owner</th>\n",
              "      <th>Country_of_Origin</th>\n",
              "      <th>Farm_Name</th>\n",
              "      <th>Lot_Number</th>\n",
              "      <th>Mill</th>\n",
              "      <th>ICO_Number</th>\n",
              "      <th>Company</th>\n",
              "      <th>Altitude</th>\n",
              "      <th>...</th>\n",
              "      <th>Color</th>\n",
              "      <th>Category_Two_Defects</th>\n",
              "      <th>Expiration</th>\n",
              "      <th>Certification_Body</th>\n",
              "      <th>Certification_Address</th>\n",
              "      <th>Certification_Contact</th>\n",
              "      <th>unit_of_measurement</th>\n",
              "      <th>altitude_low_meters</th>\n",
              "      <th>altitude_high_meters</th>\n",
              "      <th>altitude_mean_meters</th>\n",
              "    </tr>\n",
              "  </thead>\n",
              "  <tbody>\n",
              "    <tr>\n",
              "      <th>0</th>\n",
              "      <td>1</td>\n",
              "      <td>Arabica</td>\n",
              "      <td>metad plc</td>\n",
              "      <td>Ethiopia</td>\n",
              "      <td>metad plc</td>\n",
              "      <td>NaN</td>\n",
              "      <td>metad plc</td>\n",
              "      <td>2014/2015</td>\n",
              "      <td>metad agricultural developmet plc</td>\n",
              "      <td>1950-2200</td>\n",
              "      <td>...</td>\n",
              "      <td>Green</td>\n",
              "      <td>0</td>\n",
              "      <td>April 3rd, 2016</td>\n",
              "      <td>METAD Agricultural Development plc</td>\n",
              "      <td>309fcf77415a3661ae83e027f7e5f05dad786e44</td>\n",
              "      <td>19fef5a731de2db57d16da10287413f5f99bc2dd</td>\n",
              "      <td>m</td>\n",
              "      <td>1950.0</td>\n",
              "      <td>2200.0</td>\n",
              "      <td>2075.0</td>\n",
              "    </tr>\n",
              "    <tr>\n",
              "      <th>1</th>\n",
              "      <td>2</td>\n",
              "      <td>Arabica</td>\n",
              "      <td>metad plc</td>\n",
              "      <td>Ethiopia</td>\n",
              "      <td>metad plc</td>\n",
              "      <td>NaN</td>\n",
              "      <td>metad plc</td>\n",
              "      <td>2014/2015</td>\n",
              "      <td>metad agricultural developmet plc</td>\n",
              "      <td>1950-2200</td>\n",
              "      <td>...</td>\n",
              "      <td>Green</td>\n",
              "      <td>1</td>\n",
              "      <td>April 3rd, 2016</td>\n",
              "      <td>METAD Agricultural Development plc</td>\n",
              "      <td>309fcf77415a3661ae83e027f7e5f05dad786e44</td>\n",
              "      <td>19fef5a731de2db57d16da10287413f5f99bc2dd</td>\n",
              "      <td>m</td>\n",
              "      <td>1950.0</td>\n",
              "      <td>2200.0</td>\n",
              "      <td>2075.0</td>\n",
              "    </tr>\n",
              "    <tr>\n",
              "      <th>2</th>\n",
              "      <td>3</td>\n",
              "      <td>Arabica</td>\n",
              "      <td>grounds for health admin</td>\n",
              "      <td>Guatemala</td>\n",
              "      <td>san marcos barrancas \"san cristobal cuch</td>\n",
              "      <td>NaN</td>\n",
              "      <td>NaN</td>\n",
              "      <td>NaN</td>\n",
              "      <td>NaN</td>\n",
              "      <td>1600 - 1800 m</td>\n",
              "      <td>...</td>\n",
              "      <td>NaN</td>\n",
              "      <td>0</td>\n",
              "      <td>May 31st, 2011</td>\n",
              "      <td>Specialty Coffee Association</td>\n",
              "      <td>36d0d00a3724338ba7937c52a378d085f2172daa</td>\n",
              "      <td>0878a7d4b9d35ddbf0fe2ce69a2062cceb45a660</td>\n",
              "      <td>m</td>\n",
              "      <td>1600.0</td>\n",
              "      <td>1800.0</td>\n",
              "      <td>1700.0</td>\n",
              "    </tr>\n",
              "    <tr>\n",
              "      <th>3</th>\n",
              "      <td>4</td>\n",
              "      <td>Arabica</td>\n",
              "      <td>yidnekachew dabessa</td>\n",
              "      <td>Ethiopia</td>\n",
              "      <td>yidnekachew dabessa coffee plantation</td>\n",
              "      <td>NaN</td>\n",
              "      <td>wolensu</td>\n",
              "      <td>NaN</td>\n",
              "      <td>yidnekachew debessa coffee plantation</td>\n",
              "      <td>1800-2200</td>\n",
              "      <td>...</td>\n",
              "      <td>Green</td>\n",
              "      <td>2</td>\n",
              "      <td>March 25th, 2016</td>\n",
              "      <td>METAD Agricultural Development plc</td>\n",
              "      <td>309fcf77415a3661ae83e027f7e5f05dad786e44</td>\n",
              "      <td>19fef5a731de2db57d16da10287413f5f99bc2dd</td>\n",
              "      <td>m</td>\n",
              "      <td>1800.0</td>\n",
              "      <td>2200.0</td>\n",
              "      <td>2000.0</td>\n",
              "    </tr>\n",
              "    <tr>\n",
              "      <th>4</th>\n",
              "      <td>5</td>\n",
              "      <td>Arabica</td>\n",
              "      <td>metad plc</td>\n",
              "      <td>Ethiopia</td>\n",
              "      <td>metad plc</td>\n",
              "      <td>NaN</td>\n",
              "      <td>metad plc</td>\n",
              "      <td>2014/2015</td>\n",
              "      <td>metad agricultural developmet plc</td>\n",
              "      <td>1950-2200</td>\n",
              "      <td>...</td>\n",
              "      <td>Green</td>\n",
              "      <td>2</td>\n",
              "      <td>April 3rd, 2016</td>\n",
              "      <td>METAD Agricultural Development plc</td>\n",
              "      <td>309fcf77415a3661ae83e027f7e5f05dad786e44</td>\n",
              "      <td>19fef5a731de2db57d16da10287413f5f99bc2dd</td>\n",
              "      <td>m</td>\n",
              "      <td>1950.0</td>\n",
              "      <td>2200.0</td>\n",
              "      <td>2075.0</td>\n",
              "    </tr>\n",
              "  </tbody>\n",
              "</table>\n",
              "<p>5 rows × 44 columns</p>\n",
              "</div>\n",
              "      <button class=\"colab-df-convert\" onclick=\"convertToInteractive('df-eac5cc32-0da9-4988-90b8-c0c7f7e0ba16')\"\n",
              "              title=\"Convert this dataframe to an interactive table.\"\n",
              "              style=\"display:none;\">\n",
              "        \n",
              "  <svg xmlns=\"http://www.w3.org/2000/svg\" height=\"24px\"viewBox=\"0 0 24 24\"\n",
              "       width=\"24px\">\n",
              "    <path d=\"M0 0h24v24H0V0z\" fill=\"none\"/>\n",
              "    <path d=\"M18.56 5.44l.94 2.06.94-2.06 2.06-.94-2.06-.94-.94-2.06-.94 2.06-2.06.94zm-11 1L8.5 8.5l.94-2.06 2.06-.94-2.06-.94L8.5 2.5l-.94 2.06-2.06.94zm10 10l.94 2.06.94-2.06 2.06-.94-2.06-.94-.94-2.06-.94 2.06-2.06.94z\"/><path d=\"M17.41 7.96l-1.37-1.37c-.4-.4-.92-.59-1.43-.59-.52 0-1.04.2-1.43.59L10.3 9.45l-7.72 7.72c-.78.78-.78 2.05 0 2.83L4 21.41c.39.39.9.59 1.41.59.51 0 1.02-.2 1.41-.59l7.78-7.78 2.81-2.81c.8-.78.8-2.07 0-2.86zM5.41 20L4 18.59l7.72-7.72 1.47 1.35L5.41 20z\"/>\n",
              "  </svg>\n",
              "      </button>\n",
              "      \n",
              "  <style>\n",
              "    .colab-df-container {\n",
              "      display:flex;\n",
              "      flex-wrap:wrap;\n",
              "      gap: 12px;\n",
              "    }\n",
              "\n",
              "    .colab-df-convert {\n",
              "      background-color: #E8F0FE;\n",
              "      border: none;\n",
              "      border-radius: 50%;\n",
              "      cursor: pointer;\n",
              "      display: none;\n",
              "      fill: #1967D2;\n",
              "      height: 32px;\n",
              "      padding: 0 0 0 0;\n",
              "      width: 32px;\n",
              "    }\n",
              "\n",
              "    .colab-df-convert:hover {\n",
              "      background-color: #E2EBFA;\n",
              "      box-shadow: 0px 1px 2px rgba(60, 64, 67, 0.3), 0px 1px 3px 1px rgba(60, 64, 67, 0.15);\n",
              "      fill: #174EA6;\n",
              "    }\n",
              "\n",
              "    [theme=dark] .colab-df-convert {\n",
              "      background-color: #3B4455;\n",
              "      fill: #D2E3FC;\n",
              "    }\n",
              "\n",
              "    [theme=dark] .colab-df-convert:hover {\n",
              "      background-color: #434B5C;\n",
              "      box-shadow: 0px 1px 3px 1px rgba(0, 0, 0, 0.15);\n",
              "      filter: drop-shadow(0px 1px 2px rgba(0, 0, 0, 0.3));\n",
              "      fill: #FFFFFF;\n",
              "    }\n",
              "  </style>\n",
              "\n",
              "      <script>\n",
              "        const buttonEl =\n",
              "          document.querySelector('#df-eac5cc32-0da9-4988-90b8-c0c7f7e0ba16 button.colab-df-convert');\n",
              "        buttonEl.style.display =\n",
              "          google.colab.kernel.accessAllowed ? 'block' : 'none';\n",
              "\n",
              "        async function convertToInteractive(key) {\n",
              "          const element = document.querySelector('#df-eac5cc32-0da9-4988-90b8-c0c7f7e0ba16');\n",
              "          const dataTable =\n",
              "            await google.colab.kernel.invokeFunction('convertToInteractive',\n",
              "                                                     [key], {});\n",
              "          if (!dataTable) return;\n",
              "\n",
              "          const docLinkHtml = 'Like what you see? Visit the ' +\n",
              "            '<a target=\"_blank\" href=https://colab.research.google.com/notebooks/data_table.ipynb>data table notebook</a>'\n",
              "            + ' to learn more about interactive tables.';\n",
              "          element.innerHTML = '';\n",
              "          dataTable['output_type'] = 'display_data';\n",
              "          await google.colab.output.renderOutput(dataTable, element);\n",
              "          const docLink = document.createElement('div');\n",
              "          docLink.innerHTML = docLinkHtml;\n",
              "          element.appendChild(docLink);\n",
              "        }\n",
              "      </script>\n",
              "    </div>\n",
              "  </div>\n",
              "  "
            ]
          },
          "metadata": {},
          "execution_count": 80
        }
      ]
    },
    {
      "cell_type": "code",
      "source": [
        "# Select the columns I'll be using for the analysis\n",
        "cols = ['Country_of_Origin', 'Region',\n",
        "       'Harvest_Year', 'Variety',\n",
        "       'Processing_Method', 'Total_Cup_Points',\n",
        "       'altitude_low_meters', 'altitude_high_meters', 'altitude_mean_meters']\n",
        "\n",
        "df2 = df[cols]"
      ],
      "metadata": {
        "id": "sf5cXE7R1i_2"
      },
      "execution_count": 81,
      "outputs": []
    },
    {
      "cell_type": "code",
      "source": [
        "# DF shape\n",
        "df2.shape"
      ],
      "metadata": {
        "colab": {
          "base_uri": "https://localhost:8080/"
        },
        "id": "kG2wg0937NqI",
        "outputId": "a15f5788-12bb-470d-a3d9-c86291fbb29d"
      },
      "execution_count": 37,
      "outputs": [
        {
          "output_type": "execute_result",
          "data": {
            "text/plain": [
              "(1311, 9)"
            ]
          },
          "metadata": {},
          "execution_count": 37
        }
      ]
    },
    {
      "cell_type": "code",
      "source": [
        "# Change the target column position\n",
        "last_col = df2.pop('Total_Cup_Points')\n",
        "df2.insert(len(df2.columns), 'Total_Cup_Points', last_col)\n",
        "df2.head()"
      ],
      "metadata": {
        "colab": {
          "base_uri": "https://localhost:8080/",
          "height": 206
        },
        "id": "6_dvsJGJ3LBe",
        "outputId": "842c4a8d-78a9-4a08-e336-e18010aa818f"
      },
      "execution_count": 82,
      "outputs": [
        {
          "output_type": "execute_result",
          "data": {
            "text/plain": [
              "  Country_of_Origin        Region Harvest_Year  Variety Processing_Method  \\\n",
              "0          Ethiopia  guji-hambela         2014      NaN      Washed / Wet   \n",
              "1          Ethiopia  guji-hambela         2014    Other      Washed / Wet   \n",
              "2         Guatemala           NaN          NaN  Bourbon               NaN   \n",
              "3          Ethiopia        oromia         2014      NaN     Natural / Dry   \n",
              "4          Ethiopia  guji-hambela         2014    Other      Washed / Wet   \n",
              "\n",
              "   altitude_low_meters  altitude_high_meters  altitude_mean_meters  \\\n",
              "0               1950.0                2200.0                2075.0   \n",
              "1               1950.0                2200.0                2075.0   \n",
              "2               1600.0                1800.0                1700.0   \n",
              "3               1800.0                2200.0                2000.0   \n",
              "4               1950.0                2200.0                2075.0   \n",
              "\n",
              "   Total_Cup_Points  \n",
              "0             90.58  \n",
              "1             89.92  \n",
              "2             89.75  \n",
              "3             89.00  \n",
              "4             88.83  "
            ],
            "text/html": [
              "\n",
              "  <div id=\"df-e26695f6-31d4-47c7-9078-1fd1a8aed06f\">\n",
              "    <div class=\"colab-df-container\">\n",
              "      <div>\n",
              "<style scoped>\n",
              "    .dataframe tbody tr th:only-of-type {\n",
              "        vertical-align: middle;\n",
              "    }\n",
              "\n",
              "    .dataframe tbody tr th {\n",
              "        vertical-align: top;\n",
              "    }\n",
              "\n",
              "    .dataframe thead th {\n",
              "        text-align: right;\n",
              "    }\n",
              "</style>\n",
              "<table border=\"1\" class=\"dataframe\">\n",
              "  <thead>\n",
              "    <tr style=\"text-align: right;\">\n",
              "      <th></th>\n",
              "      <th>Country_of_Origin</th>\n",
              "      <th>Region</th>\n",
              "      <th>Harvest_Year</th>\n",
              "      <th>Variety</th>\n",
              "      <th>Processing_Method</th>\n",
              "      <th>altitude_low_meters</th>\n",
              "      <th>altitude_high_meters</th>\n",
              "      <th>altitude_mean_meters</th>\n",
              "      <th>Total_Cup_Points</th>\n",
              "    </tr>\n",
              "  </thead>\n",
              "  <tbody>\n",
              "    <tr>\n",
              "      <th>0</th>\n",
              "      <td>Ethiopia</td>\n",
              "      <td>guji-hambela</td>\n",
              "      <td>2014</td>\n",
              "      <td>NaN</td>\n",
              "      <td>Washed / Wet</td>\n",
              "      <td>1950.0</td>\n",
              "      <td>2200.0</td>\n",
              "      <td>2075.0</td>\n",
              "      <td>90.58</td>\n",
              "    </tr>\n",
              "    <tr>\n",
              "      <th>1</th>\n",
              "      <td>Ethiopia</td>\n",
              "      <td>guji-hambela</td>\n",
              "      <td>2014</td>\n",
              "      <td>Other</td>\n",
              "      <td>Washed / Wet</td>\n",
              "      <td>1950.0</td>\n",
              "      <td>2200.0</td>\n",
              "      <td>2075.0</td>\n",
              "      <td>89.92</td>\n",
              "    </tr>\n",
              "    <tr>\n",
              "      <th>2</th>\n",
              "      <td>Guatemala</td>\n",
              "      <td>NaN</td>\n",
              "      <td>NaN</td>\n",
              "      <td>Bourbon</td>\n",
              "      <td>NaN</td>\n",
              "      <td>1600.0</td>\n",
              "      <td>1800.0</td>\n",
              "      <td>1700.0</td>\n",
              "      <td>89.75</td>\n",
              "    </tr>\n",
              "    <tr>\n",
              "      <th>3</th>\n",
              "      <td>Ethiopia</td>\n",
              "      <td>oromia</td>\n",
              "      <td>2014</td>\n",
              "      <td>NaN</td>\n",
              "      <td>Natural / Dry</td>\n",
              "      <td>1800.0</td>\n",
              "      <td>2200.0</td>\n",
              "      <td>2000.0</td>\n",
              "      <td>89.00</td>\n",
              "    </tr>\n",
              "    <tr>\n",
              "      <th>4</th>\n",
              "      <td>Ethiopia</td>\n",
              "      <td>guji-hambela</td>\n",
              "      <td>2014</td>\n",
              "      <td>Other</td>\n",
              "      <td>Washed / Wet</td>\n",
              "      <td>1950.0</td>\n",
              "      <td>2200.0</td>\n",
              "      <td>2075.0</td>\n",
              "      <td>88.83</td>\n",
              "    </tr>\n",
              "  </tbody>\n",
              "</table>\n",
              "</div>\n",
              "      <button class=\"colab-df-convert\" onclick=\"convertToInteractive('df-e26695f6-31d4-47c7-9078-1fd1a8aed06f')\"\n",
              "              title=\"Convert this dataframe to an interactive table.\"\n",
              "              style=\"display:none;\">\n",
              "        \n",
              "  <svg xmlns=\"http://www.w3.org/2000/svg\" height=\"24px\"viewBox=\"0 0 24 24\"\n",
              "       width=\"24px\">\n",
              "    <path d=\"M0 0h24v24H0V0z\" fill=\"none\"/>\n",
              "    <path d=\"M18.56 5.44l.94 2.06.94-2.06 2.06-.94-2.06-.94-.94-2.06-.94 2.06-2.06.94zm-11 1L8.5 8.5l.94-2.06 2.06-.94-2.06-.94L8.5 2.5l-.94 2.06-2.06.94zm10 10l.94 2.06.94-2.06 2.06-.94-2.06-.94-.94-2.06-.94 2.06-2.06.94z\"/><path d=\"M17.41 7.96l-1.37-1.37c-.4-.4-.92-.59-1.43-.59-.52 0-1.04.2-1.43.59L10.3 9.45l-7.72 7.72c-.78.78-.78 2.05 0 2.83L4 21.41c.39.39.9.59 1.41.59.51 0 1.02-.2 1.41-.59l7.78-7.78 2.81-2.81c.8-.78.8-2.07 0-2.86zM5.41 20L4 18.59l7.72-7.72 1.47 1.35L5.41 20z\"/>\n",
              "  </svg>\n",
              "      </button>\n",
              "      \n",
              "  <style>\n",
              "    .colab-df-container {\n",
              "      display:flex;\n",
              "      flex-wrap:wrap;\n",
              "      gap: 12px;\n",
              "    }\n",
              "\n",
              "    .colab-df-convert {\n",
              "      background-color: #E8F0FE;\n",
              "      border: none;\n",
              "      border-radius: 50%;\n",
              "      cursor: pointer;\n",
              "      display: none;\n",
              "      fill: #1967D2;\n",
              "      height: 32px;\n",
              "      padding: 0 0 0 0;\n",
              "      width: 32px;\n",
              "    }\n",
              "\n",
              "    .colab-df-convert:hover {\n",
              "      background-color: #E2EBFA;\n",
              "      box-shadow: 0px 1px 2px rgba(60, 64, 67, 0.3), 0px 1px 3px 1px rgba(60, 64, 67, 0.15);\n",
              "      fill: #174EA6;\n",
              "    }\n",
              "\n",
              "    [theme=dark] .colab-df-convert {\n",
              "      background-color: #3B4455;\n",
              "      fill: #D2E3FC;\n",
              "    }\n",
              "\n",
              "    [theme=dark] .colab-df-convert:hover {\n",
              "      background-color: #434B5C;\n",
              "      box-shadow: 0px 1px 3px 1px rgba(0, 0, 0, 0.15);\n",
              "      filter: drop-shadow(0px 1px 2px rgba(0, 0, 0, 0.3));\n",
              "      fill: #FFFFFF;\n",
              "    }\n",
              "  </style>\n",
              "\n",
              "      <script>\n",
              "        const buttonEl =\n",
              "          document.querySelector('#df-e26695f6-31d4-47c7-9078-1fd1a8aed06f button.colab-df-convert');\n",
              "        buttonEl.style.display =\n",
              "          google.colab.kernel.accessAllowed ? 'block' : 'none';\n",
              "\n",
              "        async function convertToInteractive(key) {\n",
              "          const element = document.querySelector('#df-e26695f6-31d4-47c7-9078-1fd1a8aed06f');\n",
              "          const dataTable =\n",
              "            await google.colab.kernel.invokeFunction('convertToInteractive',\n",
              "                                                     [key], {});\n",
              "          if (!dataTable) return;\n",
              "\n",
              "          const docLinkHtml = 'Like what you see? Visit the ' +\n",
              "            '<a target=\"_blank\" href=https://colab.research.google.com/notebooks/data_table.ipynb>data table notebook</a>'\n",
              "            + ' to learn more about interactive tables.';\n",
              "          element.innerHTML = '';\n",
              "          dataTable['output_type'] = 'display_data';\n",
              "          await google.colab.output.renderOutput(dataTable, element);\n",
              "          const docLink = document.createElement('div');\n",
              "          docLink.innerHTML = docLinkHtml;\n",
              "          element.appendChild(docLink);\n",
              "        }\n",
              "      </script>\n",
              "    </div>\n",
              "  </div>\n",
              "  "
            ]
          },
          "metadata": {},
          "execution_count": 82
        }
      ]
    },
    {
      "cell_type": "code",
      "source": [
        "# Verify presence of null and nan values:\n",
        "df2.isna().sum()"
      ],
      "metadata": {
        "colab": {
          "base_uri": "https://localhost:8080/"
        },
        "id": "T-DoZFTy64dp",
        "outputId": "1e17c6b5-8517-4edb-9368-1fcc10fc6b27"
      },
      "execution_count": 39,
      "outputs": [
        {
          "output_type": "execute_result",
          "data": {
            "text/plain": [
              "Country_of_Origin         1\n",
              "Region                   57\n",
              "Harvest_Year             47\n",
              "Variety                 201\n",
              "Processing_Method       152\n",
              "altitude_low_meters     227\n",
              "altitude_high_meters    227\n",
              "altitude_mean_meters    227\n",
              "Total_Cup_Points          0\n",
              "dtype: int64"
            ]
          },
          "metadata": {},
          "execution_count": 39
        }
      ]
    },
    {
      "cell_type": "code",
      "source": [
        "# Get to know a little bit further about the data, mainly if we have misspelled words, same information with different writting, wrong type of data, etc.\n",
        "df2['Region'].value_counts()"
      ],
      "metadata": {
        "colab": {
          "base_uri": "https://localhost:8080/"
        },
        "id": "pkxCXD_84Psf",
        "outputId": "8cdca718-3fdd-4f32-accf-208dfa782d90"
      },
      "execution_count": 28,
      "outputs": [
        {
          "output_type": "execute_result",
          "data": {
            "text/plain": [
              "huila                              112\n",
              "oriente                             80\n",
              "south of minas                      68\n",
              "kona                                66\n",
              "veracruz                            35\n",
              "                                  ... \n",
              "berastagi                            1\n",
              "sapan toraja                         1\n",
              "south huila                          1\n",
              "mt elgon                             1\n",
              "department d'artibonite , haiti      1\n",
              "Name: Region, Length: 343, dtype: int64"
            ]
          },
          "metadata": {},
          "execution_count": 28
        }
      ]
    },
    {
      "cell_type": "code",
      "source": [
        "# data types\n",
        "df2.dtypes"
      ],
      "metadata": {
        "colab": {
          "base_uri": "https://localhost:8080/"
        },
        "id": "FMbxtEmSVDge",
        "outputId": "0171b45f-56ed-4bb7-f62f-f6f6c7601236"
      },
      "execution_count": 40,
      "outputs": [
        {
          "output_type": "execute_result",
          "data": {
            "text/plain": [
              "Country_of_Origin        object\n",
              "Region                   object\n",
              "Harvest_Year             object\n",
              "Variety                  object\n",
              "Processing_Method        object\n",
              "altitude_low_meters     float64\n",
              "altitude_high_meters    float64\n",
              "altitude_mean_meters    float64\n",
              "Total_Cup_Points        float64\n",
              "dtype: object"
            ]
          },
          "metadata": {},
          "execution_count": 40
        }
      ]
    },
    {
      "cell_type": "code",
      "source": [
        "# Uniform Harvest Year column\n",
        "\n",
        "df2['Harvest_Year'].value_counts()"
      ],
      "metadata": {
        "colab": {
          "base_uri": "https://localhost:8080/"
        },
        "id": "fTe-C7EmWequ",
        "outputId": "b1b1bae9-ede1-4dcd-9a17-6d9358e93873"
      },
      "execution_count": 66,
      "outputs": [
        {
          "output_type": "execute_result",
          "data": {
            "text/plain": [
              "2012                        352\n",
              "2014                        226\n",
              "2013                        170\n",
              "2015                        125\n",
              "2016                        122\n",
              "2017                         68\n",
              "2013/2014                    29\n",
              "2015/2016                    28\n",
              "2011                         26\n",
              "2017 / 2018                  19\n",
              "2014/2015                    19\n",
              "2009/2010                    12\n",
              "2010                         10\n",
              "2010-2011                     6\n",
              "2016 / 2017                   6\n",
              "4T/10                         4\n",
              "March 2010                    3\n",
              "2009-2010                     3\n",
              "Mayo a Julio                  3\n",
              "4T/2010                       3\n",
              "Abril - Julio                 2\n",
              "January 2011                  2\n",
              "2011/2012                     2\n",
              "08/09 crop                    2\n",
              "December 2009-March 2010      1\n",
              "TEST                          1\n",
              "4T72010                       1\n",
              "2018                          1\n",
              "1t/2011                       1\n",
              "2016/2017                     1\n",
              "3T/2011                       1\n",
              "Spring 2011 in Colombia.      1\n",
              "Abril - Julio /2011           1\n",
              "4t/2011                       1\n",
              "2009 / 2010                   1\n",
              "47/2010                       1\n",
              "2009 - 2010                   1\n",
              "August to December            1\n",
              "May-August                    1\n",
              "4t/2010                       1\n",
              "1T/2011                       1\n",
              "January Through April         1\n",
              "Fall 2009                     1\n",
              "Sept 2009 - April 2010        1\n",
              "mmm                           1\n",
              "23 July 2010                  1\n",
              "Name: Harvest_Year, dtype: int64"
            ]
          },
          "metadata": {},
          "execution_count": 66
        }
      ]
    },
    {
      "cell_type": "code",
      "source": [
        "df2['Harvest_Year'] = df2['Harvest_Year'].str.slice(0,4)\n",
        "df2['Harvest_Year'].value_counts()"
      ],
      "metadata": {
        "colab": {
          "base_uri": "https://localhost:8080/"
        },
        "id": "baSLsQXkXo0G",
        "outputId": "d42d6475-3ac0-41dc-d67d-b2dffcc48563"
      },
      "execution_count": 83,
      "outputs": [
        {
          "output_type": "stream",
          "name": "stderr",
          "text": [
            "<ipython-input-83-39887d4879e9>:1: SettingWithCopyWarning: \n",
            "A value is trying to be set on a copy of a slice from a DataFrame.\n",
            "Try using .loc[row_indexer,col_indexer] = value instead\n",
            "\n",
            "See the caveats in the documentation: https://pandas.pydata.org/pandas-docs/stable/user_guide/indexing.html#returning-a-view-versus-a-copy\n",
            "  df2['Harvest_Year'] = df2['Harvest_Year'].str.slice(0,4)\n"
          ]
        },
        {
          "output_type": "execute_result",
          "data": {
            "text/plain": [
              "2012    352\n",
              "2014    245\n",
              "2013    199\n",
              "2015    153\n",
              "2016    129\n",
              "2017     87\n",
              "2011     28\n",
              "2009     17\n",
              "2010     16\n",
              "4T/1      4\n",
              "Abri      3\n",
              "Mayo      3\n",
              "4T/2      3\n",
              "Janu      3\n",
              "Marc      3\n",
              "08/0      2\n",
              "4t/2      2\n",
              "47/2      1\n",
              "4T72      1\n",
              "2018      1\n",
              "1t/2      1\n",
              "3T/2      1\n",
              "Spri      1\n",
              "TEST      1\n",
              "Dece      1\n",
              "Augu      1\n",
              "May-      1\n",
              "1T/2      1\n",
              "23 J      1\n",
              "Fall      1\n",
              "mmm       1\n",
              "Sept      1\n",
              "Name: Harvest_Year, dtype: int64"
            ]
          },
          "metadata": {},
          "execution_count": 83
        }
      ]
    },
    {
      "cell_type": "code",
      "source": [
        "# define function to extract year as string of 4 digits\n",
        "def extract_year(x):\n",
        "    if isinstance(x, str):\n",
        "        match = re.search(r'\\d{4}', x)\n",
        "        if match:\n",
        "            return match.group()\n",
        "    return np.nan\n",
        "\n",
        "# apply function to the 'Harvest_Year' column\n",
        "df2['Harvest_Year'] = df2['Harvest_Year'].apply(extract_year)"
      ],
      "metadata": {
        "colab": {
          "base_uri": "https://localhost:8080/"
        },
        "id": "vypslfzXh7qs",
        "outputId": "0bb24955-4826-4ef4-adc5-644401f3b375"
      },
      "execution_count": 84,
      "outputs": [
        {
          "output_type": "stream",
          "name": "stderr",
          "text": [
            "<ipython-input-84-3caf806d6ad9>:10: SettingWithCopyWarning: \n",
            "A value is trying to be set on a copy of a slice from a DataFrame.\n",
            "Try using .loc[row_indexer,col_indexer] = value instead\n",
            "\n",
            "See the caveats in the documentation: https://pandas.pydata.org/pandas-docs/stable/user_guide/indexing.html#returning-a-view-versus-a-copy\n",
            "  df2['Harvest_Year'] = df2['Harvest_Year'].apply(extract_year)\n"
          ]
        }
      ]
    },
    {
      "cell_type": "code",
      "source": [
        "df2['Harvest_Year'].value_counts()"
      ],
      "metadata": {
        "colab": {
          "base_uri": "https://localhost:8080/"
        },
        "id": "dThpEU4rkP8i",
        "outputId": "16214909-2068-40e5-ede5-dd7b41fee2ba"
      },
      "execution_count": 88,
      "outputs": [
        {
          "output_type": "execute_result",
          "data": {
            "text/plain": [
              "2012    352\n",
              "2014    245\n",
              "2013    199\n",
              "2015    153\n",
              "2016    129\n",
              "2017     87\n",
              "2011     28\n",
              "2009     17\n",
              "2010     16\n",
              "2018      1\n",
              "Name: Harvest_Year, dtype: int64"
            ]
          },
          "metadata": {},
          "execution_count": 88
        }
      ]
    },
    {
      "cell_type": "code",
      "source": [
        "# Here we can see the data type for altitudes and that are a value \"0\" in total cup points\n",
        "\n",
        "df2.describe()"
      ],
      "metadata": {
        "colab": {
          "base_uri": "https://localhost:8080/",
          "height": 300
        },
        "id": "tl9jmqFOk1PQ",
        "outputId": "c3a3c914-7962-4809-db51-d89a7759cd8e"
      },
      "execution_count": 93,
      "outputs": [
        {
          "output_type": "execute_result",
          "data": {
            "text/plain": [
              "       altitude_low_meters  altitude_high_meters  altitude_mean_meters  \\\n",
              "count          1084.000000           1084.000000           1084.000000   \n",
              "mean           1759.548954           1808.843803           1784.196379   \n",
              "std            8767.847252           8767.187498           8767.016913   \n",
              "min               1.000000              1.000000              1.000000   \n",
              "25%            1100.000000           1100.000000           1100.000000   \n",
              "50%            1310.640000           1350.000000           1310.640000   \n",
              "75%            1600.000000           1650.000000           1600.000000   \n",
              "max          190164.000000         190164.000000         190164.000000   \n",
              "\n",
              "       Total_Cup_Points  \n",
              "count       1311.000000  \n",
              "mean          82.115927  \n",
              "std            3.515761  \n",
              "min            0.000000  \n",
              "25%           81.170000  \n",
              "50%           82.500000  \n",
              "75%           83.670000  \n",
              "max           90.580000  "
            ],
            "text/html": [
              "\n",
              "  <div id=\"df-7ab64a7d-bb07-4ecd-a677-bddbde00d5ea\">\n",
              "    <div class=\"colab-df-container\">\n",
              "      <div>\n",
              "<style scoped>\n",
              "    .dataframe tbody tr th:only-of-type {\n",
              "        vertical-align: middle;\n",
              "    }\n",
              "\n",
              "    .dataframe tbody tr th {\n",
              "        vertical-align: top;\n",
              "    }\n",
              "\n",
              "    .dataframe thead th {\n",
              "        text-align: right;\n",
              "    }\n",
              "</style>\n",
              "<table border=\"1\" class=\"dataframe\">\n",
              "  <thead>\n",
              "    <tr style=\"text-align: right;\">\n",
              "      <th></th>\n",
              "      <th>altitude_low_meters</th>\n",
              "      <th>altitude_high_meters</th>\n",
              "      <th>altitude_mean_meters</th>\n",
              "      <th>Total_Cup_Points</th>\n",
              "    </tr>\n",
              "  </thead>\n",
              "  <tbody>\n",
              "    <tr>\n",
              "      <th>count</th>\n",
              "      <td>1084.000000</td>\n",
              "      <td>1084.000000</td>\n",
              "      <td>1084.000000</td>\n",
              "      <td>1311.000000</td>\n",
              "    </tr>\n",
              "    <tr>\n",
              "      <th>mean</th>\n",
              "      <td>1759.548954</td>\n",
              "      <td>1808.843803</td>\n",
              "      <td>1784.196379</td>\n",
              "      <td>82.115927</td>\n",
              "    </tr>\n",
              "    <tr>\n",
              "      <th>std</th>\n",
              "      <td>8767.847252</td>\n",
              "      <td>8767.187498</td>\n",
              "      <td>8767.016913</td>\n",
              "      <td>3.515761</td>\n",
              "    </tr>\n",
              "    <tr>\n",
              "      <th>min</th>\n",
              "      <td>1.000000</td>\n",
              "      <td>1.000000</td>\n",
              "      <td>1.000000</td>\n",
              "      <td>0.000000</td>\n",
              "    </tr>\n",
              "    <tr>\n",
              "      <th>25%</th>\n",
              "      <td>1100.000000</td>\n",
              "      <td>1100.000000</td>\n",
              "      <td>1100.000000</td>\n",
              "      <td>81.170000</td>\n",
              "    </tr>\n",
              "    <tr>\n",
              "      <th>50%</th>\n",
              "      <td>1310.640000</td>\n",
              "      <td>1350.000000</td>\n",
              "      <td>1310.640000</td>\n",
              "      <td>82.500000</td>\n",
              "    </tr>\n",
              "    <tr>\n",
              "      <th>75%</th>\n",
              "      <td>1600.000000</td>\n",
              "      <td>1650.000000</td>\n",
              "      <td>1600.000000</td>\n",
              "      <td>83.670000</td>\n",
              "    </tr>\n",
              "    <tr>\n",
              "      <th>max</th>\n",
              "      <td>190164.000000</td>\n",
              "      <td>190164.000000</td>\n",
              "      <td>190164.000000</td>\n",
              "      <td>90.580000</td>\n",
              "    </tr>\n",
              "  </tbody>\n",
              "</table>\n",
              "</div>\n",
              "      <button class=\"colab-df-convert\" onclick=\"convertToInteractive('df-7ab64a7d-bb07-4ecd-a677-bddbde00d5ea')\"\n",
              "              title=\"Convert this dataframe to an interactive table.\"\n",
              "              style=\"display:none;\">\n",
              "        \n",
              "  <svg xmlns=\"http://www.w3.org/2000/svg\" height=\"24px\"viewBox=\"0 0 24 24\"\n",
              "       width=\"24px\">\n",
              "    <path d=\"M0 0h24v24H0V0z\" fill=\"none\"/>\n",
              "    <path d=\"M18.56 5.44l.94 2.06.94-2.06 2.06-.94-2.06-.94-.94-2.06-.94 2.06-2.06.94zm-11 1L8.5 8.5l.94-2.06 2.06-.94-2.06-.94L8.5 2.5l-.94 2.06-2.06.94zm10 10l.94 2.06.94-2.06 2.06-.94-2.06-.94-.94-2.06-.94 2.06-2.06.94z\"/><path d=\"M17.41 7.96l-1.37-1.37c-.4-.4-.92-.59-1.43-.59-.52 0-1.04.2-1.43.59L10.3 9.45l-7.72 7.72c-.78.78-.78 2.05 0 2.83L4 21.41c.39.39.9.59 1.41.59.51 0 1.02-.2 1.41-.59l7.78-7.78 2.81-2.81c.8-.78.8-2.07 0-2.86zM5.41 20L4 18.59l7.72-7.72 1.47 1.35L5.41 20z\"/>\n",
              "  </svg>\n",
              "      </button>\n",
              "      \n",
              "  <style>\n",
              "    .colab-df-container {\n",
              "      display:flex;\n",
              "      flex-wrap:wrap;\n",
              "      gap: 12px;\n",
              "    }\n",
              "\n",
              "    .colab-df-convert {\n",
              "      background-color: #E8F0FE;\n",
              "      border: none;\n",
              "      border-radius: 50%;\n",
              "      cursor: pointer;\n",
              "      display: none;\n",
              "      fill: #1967D2;\n",
              "      height: 32px;\n",
              "      padding: 0 0 0 0;\n",
              "      width: 32px;\n",
              "    }\n",
              "\n",
              "    .colab-df-convert:hover {\n",
              "      background-color: #E2EBFA;\n",
              "      box-shadow: 0px 1px 2px rgba(60, 64, 67, 0.3), 0px 1px 3px 1px rgba(60, 64, 67, 0.15);\n",
              "      fill: #174EA6;\n",
              "    }\n",
              "\n",
              "    [theme=dark] .colab-df-convert {\n",
              "      background-color: #3B4455;\n",
              "      fill: #D2E3FC;\n",
              "    }\n",
              "\n",
              "    [theme=dark] .colab-df-convert:hover {\n",
              "      background-color: #434B5C;\n",
              "      box-shadow: 0px 1px 3px 1px rgba(0, 0, 0, 0.15);\n",
              "      filter: drop-shadow(0px 1px 2px rgba(0, 0, 0, 0.3));\n",
              "      fill: #FFFFFF;\n",
              "    }\n",
              "  </style>\n",
              "\n",
              "      <script>\n",
              "        const buttonEl =\n",
              "          document.querySelector('#df-7ab64a7d-bb07-4ecd-a677-bddbde00d5ea button.colab-df-convert');\n",
              "        buttonEl.style.display =\n",
              "          google.colab.kernel.accessAllowed ? 'block' : 'none';\n",
              "\n",
              "        async function convertToInteractive(key) {\n",
              "          const element = document.querySelector('#df-7ab64a7d-bb07-4ecd-a677-bddbde00d5ea');\n",
              "          const dataTable =\n",
              "            await google.colab.kernel.invokeFunction('convertToInteractive',\n",
              "                                                     [key], {});\n",
              "          if (!dataTable) return;\n",
              "\n",
              "          const docLinkHtml = 'Like what you see? Visit the ' +\n",
              "            '<a target=\"_blank\" href=https://colab.research.google.com/notebooks/data_table.ipynb>data table notebook</a>'\n",
              "            + ' to learn more about interactive tables.';\n",
              "          element.innerHTML = '';\n",
              "          dataTable['output_type'] = 'display_data';\n",
              "          await google.colab.output.renderOutput(dataTable, element);\n",
              "          const docLink = document.createElement('div');\n",
              "          docLink.innerHTML = docLinkHtml;\n",
              "          element.appendChild(docLink);\n",
              "        }\n",
              "      </script>\n",
              "    </div>\n",
              "  </div>\n",
              "  "
            ]
          },
          "metadata": {},
          "execution_count": 93
        }
      ]
    },
    {
      "cell_type": "code",
      "source": [
        "# Looking for outliers values in total cup points\n",
        "\n",
        "df2['Total_Cup_Points'].value_counts()"
      ],
      "metadata": {
        "colab": {
          "base_uri": "https://localhost:8080/"
        },
        "id": "_7bo3GNAlXMl",
        "outputId": "0050b0bd-cf9d-4339-a690-ec8cbdeba901"
      },
      "execution_count": 94,
      "outputs": [
        {
          "output_type": "execute_result",
          "data": {
            "text/plain": [
              "83.17    38\n",
              "83.00    37\n",
              "82.42    31\n",
              "82.75    29\n",
              "82.33    29\n",
              "         ..\n",
              "77.00     1\n",
              "76.83     1\n",
              "76.75     1\n",
              "76.50     1\n",
              "0.00      1\n",
              "Name: Total_Cup_Points, Length: 178, dtype: int64"
            ]
          },
          "metadata": {},
          "execution_count": 94
        }
      ]
    },
    {
      "cell_type": "code",
      "source": [
        "def outliers(list_values):\n",
        "  Q1 = list_values.quantile(0.25)\n",
        "  Q3 = list_values.quantile(0.75)\n",
        "  IQR = Q3 - Q1\n",
        "\n",
        "  lower_bound = Q1 - 1.5*IQR\n",
        "  upper_bound = Q3 + 1.5*IQR\n",
        "\n",
        "  outliers = []\n",
        "  for value in list_values:\n",
        "    if value < lower_bound:\n",
        "      outliers.append(value)\n",
        "    elif value > upper_bound:\n",
        "      outliers.append(value)\n",
        "    else:\n",
        "      continue\n",
        "  return len(outliers)"
      ],
      "metadata": {
        "id": "1A3X-gPkl50M"
      },
      "execution_count": 114,
      "outputs": []
    },
    {
      "cell_type": "code",
      "source": [
        "list_x = df2['Total_Cup_Points']\n",
        "outliers(list_x)"
      ],
      "metadata": {
        "colab": {
          "base_uri": "https://localhost:8080/"
        },
        "id": "nW56Bfb0oHjw",
        "outputId": "38e93fb4-abe3-4e74-885a-369636dc2603"
      },
      "execution_count": 115,
      "outputs": [
        {
          "output_type": "execute_result",
          "data": {
            "text/plain": [
              "74"
            ]
          },
          "metadata": {},
          "execution_count": 115
        }
      ]
    },
    {
      "cell_type": "code",
      "source": [
        "plt.boxplot(df2['Total_Cup_Points'], showfliers=True, whis=1.5)\n",
        "\n",
        "# Set title and axis labels\n",
        "plt.title('Boxplot of Total Cup Points')\n",
        "plt.ylabel('Total Cup Points')\n",
        "\n",
        "# Display plot\n",
        "plt.show()"
      ],
      "metadata": {
        "colab": {
          "base_uri": "https://localhost:8080/",
          "height": 452
        },
        "id": "5TwgSTK7mgNr",
        "outputId": "55ea3c7a-4f39-4dfd-a58b-4a04284c5bae"
      },
      "execution_count": 101,
      "outputs": [
        {
          "output_type": "display_data",
          "data": {
            "text/plain": [
              "<Figure size 640x480 with 1 Axes>"
            ],
            "image/png": "[encoded data removed]"
          },
          "metadata": {}
        }
      ]
    },
    {
      "cell_type": "markdown",
      "source": [
        "It has been decided that the only outlier is the value 0. Other values are acceptable to the analysis."
      ],
      "metadata": {
        "id": "3SUbuE-fnLqM"
      }
    },
    {
      "cell_type": "code",
      "source": [
        "df2 = df2.drop(df2[df2['Total_Cup_Points'] == 0].index)\n",
        "df2['Total_Cup_Points'].value_counts()"
      ],
      "metadata": {
        "colab": {
          "base_uri": "https://localhost:8080/"
        },
        "id": "Jtj5r3rno9_c",
        "outputId": "34cfd456-c71e-4869-ba39-34a03e5a9c89"
      },
      "execution_count": 121,
      "outputs": [
        {
          "output_type": "execute_result",
          "data": {
            "text/plain": [
              "83.17    38\n",
              "83.00    37\n",
              "82.42    31\n",
              "82.75    29\n",
              "82.33    29\n",
              "         ..\n",
              "77.00     1\n",
              "76.83     1\n",
              "76.75     1\n",
              "76.50     1\n",
              "59.83     1\n",
              "Name: Total_Cup_Points, Length: 177, dtype: int64"
            ]
          },
          "metadata": {},
          "execution_count": 121
        }
      ]
    },
    {
      "cell_type": "markdown",
      "source": [
        "## MACHINE LEARNING"
      ],
      "metadata": {
        "id": "uvyNI0Cisw6c"
      }
    },
    {
      "cell_type": "markdown",
      "source": [
        "I will keep altitudes values as float for now\n",
        "\n",
        "Now, I will prepare de data to implement the ML algorithm with data split\n",
        "\n",
        "For the pipeline I must:\n",
        "- implement SimpleImputer\n",
        "- scaler\n",
        "- implement One Hot Encoder\n",
        "- implement ML algorithm\n",
        "\n",
        "The algorithm choice:\n",
        "- Regression\n",
        "- DecisionTree\n",
        "- RandomForest\n",
        "- SVR\n",
        "- xgboost"
      ],
      "metadata": {
        "id": "Lcy3AOc4tB01"
      }
    },
    {
      "cell_type": "code",
      "source": [
        "X = df2.drop('Total_Cup_Points', axis=1)\n",
        "y = df2['Total_Cup_Points']"
      ],
      "metadata": {
        "id": "s_fy6eMmsNm_"
      },
      "execution_count": 132,
      "outputs": []
    },
    {
      "cell_type": "code",
      "source": [
        "X_train, X_test, y_train, y_test = train_test_split(X, y, test_size=0.25, random_state=42)"
      ],
      "metadata": {
        "id": "UI_s1o6azz5V"
      },
      "execution_count": 133,
      "outputs": []
    },
    {
      "cell_type": "code",
      "source": [
        "imputer = SimpleImputer(strategy='most_frequent')\n",
        "imputed_X_train = pd.DataFrame(imputer.fit_transform(X_train))\n",
        "imputed_X_test = pd.DataFrame(imputer.fit_transform(X_test))\n",
        "\n",
        "imputed_X_train.columns = X_train.columns\n",
        "imputed_X_test.columns = X_test.columns"
      ],
      "metadata": {
        "id": "gNtxzOk85Xc2"
      },
      "execution_count": 136,
      "outputs": []
    },
    {
      "cell_type": "code",
      "source": [
        "imputed_X_train.isna().sum()"
      ],
      "metadata": {
        "colab": {
          "base_uri": "https://localhost:8080/"
        },
        "id": "MTdpixWr6GQc",
        "outputId": "091b8b1c-544e-4314-c9d6-a09a32f5666c"
      },
      "execution_count": 137,
      "outputs": [
        {
          "output_type": "execute_result",
          "data": {
            "text/plain": [
              "Country_of_Origin       0\n",
              "Region                  0\n",
              "Harvest_Year            0\n",
              "Variety                 0\n",
              "Processing_Method       0\n",
              "altitude_low_meters     0\n",
              "altitude_high_meters    0\n",
              "altitude_mean_meters    0\n",
              "dtype: int64"
            ]
          },
          "metadata": {},
          "execution_count": 137
        }
      ]
    },
    {
      "cell_type": "markdown",
      "source": [
        "- mudar os anos em haverst year, deixar só ano, os que são dois anos deixr so o primeiro ##FEITO\n",
        "- imputar nans \n",
        "- olhar outliers no total cupping points ## FEITO"
      ],
      "metadata": {
        "id": "dquOgSSD52lI"
      }
    }
  ]
}